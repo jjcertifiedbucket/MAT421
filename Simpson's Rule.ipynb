{
 "cells": [
  {
   "cell_type": "markdown",
   "id": "c4479ad2",
   "metadata": {},
   "source": [
    "Simpson's 1/3 Rule"
   ]
  },
  {
   "cell_type": "code",
   "execution_count": 9,
   "id": "657d9913",
   "metadata": {},
   "outputs": [],
   "source": [
    "#function to integrate\n",
    "\n",
    "def f(x):\n",
    "    return 1/(1+x**2)\n",
    "\n",
    "#Using Simpson's 1/3\n",
    "def simpson13(x0,xn,n):\n",
    "    #calculate step size\n",
    "    h = (xn-x0)/n\n",
    "    \n",
    "    #finding sum\n",
    "    integration = f(x0)+f(xn)\n",
    "    \n",
    "    for i in range(1,n): #loop in 1 to n range\n",
    "        k = x0+i*h #x0=1, i=1, h=1...>> k =2\n",
    "        if i%2==0:\n",
    "            integration = integration+2*f(k) #for even terms\n",
    "        else:\n",
    "            integration = integration+4*f(k) #for Odd terms\n",
    "            \n",
    "            #Finding final integration value\n",
    "            integration = integration*h/3\n",
    "            \n",
    "            return integration"
   ]
  },
  {
   "cell_type": "code",
   "execution_count": 10,
   "id": "2ba06098",
   "metadata": {},
   "outputs": [
    {
     "name": "stdout",
     "output_type": "stream",
     "text": [
      "Enter lower limit of integration: 0\n",
      "Enter upper limit of integration: 6\n",
      "Enter number of sub intervals: 6\n",
      "Integration result by simpson's 1/3 model is: 1.009009\n"
     ]
    }
   ],
   "source": [
    "#Input section\n",
    "lower_limit = float(input(\"Enter lower limit of integration: \"))\n",
    "upper_limit = float(input(\"Enter upper limit of integration: \"))\n",
    "sub_interval = int(input(\"Enter number of sub intervals: \"))\n",
    "\n",
    "#Call trapzoidal() method and get result\n",
    "result = simpson13(lower_limit, upper_limit, sub_interval)\n",
    "print(\"Integration result by simpson's 1/3 model is: %0.6f\" % (result))\n"
   ]
  },
  {
   "cell_type": "code",
   "execution_count": null,
   "id": "1e717067",
   "metadata": {},
   "outputs": [],
   "source": []
  },
  {
   "cell_type": "code",
   "execution_count": null,
   "id": "ac40ad67",
   "metadata": {},
   "outputs": [],
   "source": []
  }
 ],
 "metadata": {
  "kernelspec": {
   "display_name": "Python 3 (ipykernel)",
   "language": "python",
   "name": "python3"
  },
  "language_info": {
   "codemirror_mode": {
    "name": "ipython",
    "version": 3
   },
   "file_extension": ".py",
   "mimetype": "text/x-python",
   "name": "python",
   "nbconvert_exporter": "python",
   "pygments_lexer": "ipython3",
   "version": "3.8.1"
  }
 },
 "nbformat": 4,
 "nbformat_minor": 5
}
