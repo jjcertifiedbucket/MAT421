{
 "cells": [
  {
   "cell_type": "code",
   "execution_count": 8,
   "id": "ae5d2c5f",
   "metadata": {},
   "outputs": [
    {
     "name": "stdout",
     "output_type": "stream",
     "text": [
      "modready\n"
     ]
    }
   ],
   "source": [
    "import numpy as np\n",
    "import matplotlib.pyplot as plt\n",
    "import scipy.integrate as integrate\n",
    "print(\"modready\")"
   ]
  },
  {
   "cell_type": "code",
   "execution_count": 9,
   "id": "7cff6c75",
   "metadata": {},
   "outputs": [],
   "source": [
    "def pc_axes(ax):\n",
    "    ax.spines['left'].set_position(('data',0))\n",
    "    ax.spines['bottom'].set_position(('data',0))\n",
    "    ax.spines['top'].set_visible(False)\n",
    "    ax.spines['right'].set_visible(False)\n",
    "    ax.set_facecolor('#04F404')\n",
    "    ax.plot(0,1,\"^k\", transform=ax.get_xaxis_transform(), clip_on=False)\n",
    "    ax.plot(1,0,\">k\", transform=ax.get_yaxis_transform(), clip_on=False)\n",
    "    "
   ]
  },
  {
   "cell_type": "code",
   "execution_count": 10,
   "id": "81349bdc",
   "metadata": {},
   "outputs": [],
   "source": [
    "def PlotFunctions(function1, function2, xminimum = -10, xmaximum = 10):\n",
    "    fig, ax = plt.subplots()\n",
    "    pc_axes(ax)\n",
    "    x=np.linspace(xminimum,xmaximum,1000)\n",
    "    y1=function1(x)\n",
    "    y2=function2(x)\n",
    "    ax.plot(x,y1)\n",
    "    ax.plot(x,y2)\n",
    "    ax.fill_between(x,y1,y2)\n",
    "    plt.show()"
   ]
  },
  {
   "cell_type": "code",
   "execution_count": 11,
   "id": "25c862ca",
   "metadata": {},
   "outputs": [
    {
     "data": {
      "image/png": "[encoded data removed]",
      "text/plain": [
       "<Figure size 432x288 with 1 Axes>"
      ]
     },
     "metadata": {
      "needs_background": "light"
     },
     "output_type": "display_data"
    },
    {
     "data": {
      "text/plain": [
       "16.0"
      ]
     },
     "execution_count": 11,
     "metadata": {},
     "output_type": "execute_result"
    }
   ],
   "source": [
    "def f1(x):\n",
    "    return 2*x**3 - x**2 - 5*x\n",
    "def f2(x):\n",
    "    return - x**2 + 3*x\n",
    "PlotFunctions(f1, f2, -2, 2)\n",
    "integrate.quad(lambda x: f1(x)-f2(x), -2, 0)[0] + integrate.quad(lambda x: f2(x)-f1(x),0,2)[0]"
   ]
  },
  {
   "cell_type": "code",
   "execution_count": null,
   "id": "596abc3c",
   "metadata": {},
   "outputs": [],
   "source": []
  }
 ],
 "metadata": {
  "kernelspec": {
   "display_name": "Python 3 (ipykernel)",
   "language": "python",
   "name": "python3"
  },
  "language_info": {
   "codemirror_mode": {
    "name": "ipython",
    "version": 3
   },
   "file_extension": ".py",
   "mimetype": "text/x-python",
   "name": "python",
   "nbconvert_exporter": "python",
   "pygments_lexer": "ipython3",
   "version": "3.8.1"
  }
 },
 "nbformat": 4,
 "nbformat_minor": 5
}
