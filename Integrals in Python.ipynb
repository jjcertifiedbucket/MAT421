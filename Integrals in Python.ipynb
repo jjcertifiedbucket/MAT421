{
 "cells": [
  {
   "cell_type": "markdown",
   "id": "11e6f616",
   "metadata": {},
   "source": [
    "A graph with the rate of change shows the integral is the area under\n",
    "the curve for a given section of time which represents the total accumulation\n",
    "\n",
    "Given a rate of change in an interval you can calculate the total accumulation of a given function if you graph the total speed of your car versus time on the y-axis and speed on the x-axis\n",
    "\n",
    "The area underneath the curve shows how far you can calculate an integral by multiplying very tiny chunks by the rate at that specific time \n",
    "\n",
    "The width of the rectangle is the chunk size and the height is the rate at that time if you add up all the tiny rectangles you get the total accumulation "
   ]
  },
  {
   "cell_type": "code",
   "execution_count": 36,
   "id": "f65ba899",
   "metadata": {},
   "outputs": [
    {
     "name": "stdout",
     "output_type": "stream",
     "text": [
      "modready\n"
     ]
    }
   ],
   "source": [
    "import numpy as np\n",
    "import matplotlib.pyplot as plt\n",
    "import scipy.integrate as integrate\n",
    "print(\"modready\")"
   ]
  },
  {
   "cell_type": "code",
   "execution_count": 37,
   "id": "5c9ae663",
   "metadata": {},
   "outputs": [],
   "source": [
    "def pc_axes(ax):\n",
    "    ax.spines['left'].set_position(('data',0))\n",
    "    ax.spines['bottom'].set_position(('data',0))\n",
    "    ax.spines['top'].set_visible(False)\n",
    "    ax.spines['right'].set_visible(False)\n",
    "    ax.set_facecolor('#04F404')\n",
    "    ax.plot(0,1,\"^k\", transform=ax.get_xaxis_transform(), clip_on=False)\n",
    "    ax.plot(1,0,\">k\", transform=ax.get_yaxis_transform(), clip_on=False)\n",
    "    "
   ]
  },
  {
   "cell_type": "code",
   "execution_count": 39,
   "id": "4cc41ba4",
   "metadata": {},
   "outputs": [],
   "source": [
    "def PlotFunctions(function1, function2, xminimum = -10, xmaximum = 10):\n",
    "    fig, ax = plt.subplots()\n",
    "    pc_axes(ax)\n",
    "    x=np.linspace(xminimum,xmaximum,1000)\n",
    "    y1=function1(x)\n",
    "    y2=function2(x)\n",
    "    ax.plot(x,y1)\n",
    "    ax.plot(x,y2)\n",
    "    ax.fill_between(x,y1,y2)\n",
    "    plt.show()"
   ]
  },
  {
   "cell_type": "code",
   "execution_count": 40,
   "id": "39c2a605",
   "metadata": {},
   "outputs": [
    {
     "data": {
      "image/png": "[encoded data removed]",
      "text/plain": [
       "<Figure size 432x288 with 1 Axes>"
      ]
     },
     "metadata": {
      "needs_background": "light"
     },
     "output_type": "display_data"
    },
    {
     "data": {
      "text/plain": [
       "-4.5"
      ]
     },
     "execution_count": 40,
     "metadata": {},
     "output_type": "execute_result"
    }
   ],
   "source": [
    "def f1(x):\n",
    "    return 2 - x**2\n",
    "def f2(x):\n",
    "    return - x\n",
    "PlotFunctions(f1,f2,-1,2)\n",
    "integrate.quad(lambda x: f2(x)-f1(x), -1,2)[0]"
   ]
  },
  {
   "cell_type": "code",
   "execution_count": null,
   "id": "7422f3db",
   "metadata": {},
   "outputs": [],
   "source": []
  },
  {
   "cell_type": "code",
   "execution_count": null,
   "id": "9a0e02f0",
   "metadata": {},
   "outputs": [],
   "source": []
  }
 ],
 "metadata": {
  "kernelspec": {
   "display_name": "Python 3 (ipykernel)",
   "language": "python",
   "name": "python3"
  },
  "language_info": {
   "codemirror_mode": {
    "name": "ipython",
    "version": 3
   },
   "file_extension": ".py",
   "mimetype": "text/x-python",
   "name": "python",
   "nbconvert_exporter": "python",
   "pygments_lexer": "ipython3",
   "version": "3.8.1"
  }
 },
 "nbformat": 4,
 "nbformat_minor": 5
}
